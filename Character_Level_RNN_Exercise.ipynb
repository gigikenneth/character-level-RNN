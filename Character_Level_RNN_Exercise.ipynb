{
  "nbformat": 4,
  "nbformat_minor": 0,
  "metadata": {
    "kernelspec": {
      "display_name": "Python [default]",
      "language": "python",
      "name": "python3"
    },
    "language_info": {
      "codemirror_mode": {
        "name": "ipython",
        "version": 3
      },
      "file_extension": ".py",
      "mimetype": "text/x-python",
      "name": "python",
      "nbconvert_exporter": "python",
      "pygments_lexer": "ipython3",
      "version": "3.6.4"
    },
    "colab": {
      "name": "Character_Level_RNN_Exercise.ipynb",
      "provenance": [],
      "collapsed_sections": []
    },
    "accelerator": "GPU"
  },
  "cells": [
    {
      "cell_type": "markdown",
      "metadata": {
        "id": "26r8X3lGpNDh",
        "colab_type": "text"
      },
      "source": [
        "# Character-Level LSTM in PyTorch\n",
        "\n",
        "In this notebook, I'll construct a character-level LSTM with PyTorch. The network will train character by character on some text, then generate new text character by character. As an example, I will train on Anna Karenina. **This model will be able to generate new text based on the text from the book!**\n",
        "\n",
        "This network is based off of Andrej Karpathy's [post on RNNs](http://karpathy.github.io/2015/05/21/rnn-effectiveness/) and [implementation in Torch](https://github.com/karpathy/char-rnn). Below is the general architecture of the character-wise RNN.\n",
        "\n",
        "<img src=\"assets/charseq.jpeg\" width=\"500\">"
      ]
    },
    {
      "cell_type": "markdown",
      "metadata": {
        "id": "ZgTUyj4YpNDk",
        "colab_type": "text"
      },
      "source": [
        "First let's load in our required resources for data loading and model creation."
      ]
    },
    {
      "cell_type": "code",
      "metadata": {
        "id": "q-B3Y6rvpNDm",
        "colab_type": "code",
        "colab": {}
      },
      "source": [
        "import numpy as np\n",
        "import torch\n",
        "from torch import nn\n",
        "import torch.nn.functional as F"
      ],
      "execution_count": 0,
      "outputs": []
    },
    {
      "cell_type": "markdown",
      "metadata": {
        "id": "LLKM9uSkpNDy",
        "colab_type": "text"
      },
      "source": [
        "## Load in Data\n",
        "\n",
        "Then, we'll load the Americanah text file and convert it into integers for our network to use. "
      ]
    },
    {
      "cell_type": "code",
      "metadata": {
        "id": "g01ZIWGosL3G",
        "colab_type": "code",
        "outputId": "4da9c14e-cdbc-4918-cb9e-70c26e764aa9",
        "colab": {
          "base_uri": "https://localhost:8080/",
          "height": 34
        }
      },
      "source": [
        "#mount Google Colab\n",
        "from google.colab import drive\n",
        "drive.mount('/content/gdrive')"
      ],
      "execution_count": 20,
      "outputs": [
        {
          "output_type": "stream",
          "text": [
            "Drive already mounted at /content/gdrive; to attempt to forcibly remount, call drive.mount(\"/content/gdrive\", force_remount=True).\n"
          ],
          "name": "stdout"
        }
      ]
    },
    {
      "cell_type": "code",
      "metadata": {
        "id": "AjX3OaIDtXi9",
        "colab_type": "code",
        "colab": {}
      },
      "source": [
        "# open text file and read in data as `text`\n",
        "with open('/content/gdrive/My Drive/texts/Americanah.txt', 'r') as f:\n",
        "    text = f.read()"
      ],
      "execution_count": 0,
      "outputs": []
    },
    {
      "cell_type": "code",
      "metadata": {
        "id": "Z5E4p2_gpND0",
        "colab_type": "code",
        "colab": {}
      },
      "source": [
        "# open text file and read in data as `text`\n",
        "#with open('data/anna.txt', 'r') as f:\n",
        "#    text = f.read()"
      ],
      "execution_count": 0,
      "outputs": []
    },
    {
      "cell_type": "markdown",
      "metadata": {
        "id": "S8s3iGNvpND6",
        "colab_type": "text"
      },
      "source": [
        "Let's check out the first 100 characters, make sure everything is peachy. According to the [American Book Review](http://americanbookreview.org/100bestlines.asp), this is the 6th best first line of a book ever."
      ]
    },
    {
      "cell_type": "code",
      "metadata": {
        "id": "jVxtITJmpND7",
        "colab_type": "code",
        "colab": {
          "base_uri": "https://localhost:8080/",
          "height": 34
        },
        "outputId": "7f41f415-ab1a-4fc6-e894-5cd3663c9788"
      },
      "source": [
        "text[:100]"
      ],
      "execution_count": 23,
      "outputs": [
        {
          "output_type": "execute_result",
          "data": {
            "text/plain": [
              "'\\ufeffPart 1\\n\\n\\n\\n\\n\\nCHAPTER 1\\n\\n\\n\\n\\n\\nPrinceton, in the summer, smelled of nothing, and although Ifemelu liked'"
            ]
          },
          "metadata": {
            "tags": []
          },
          "execution_count": 23
        }
      ]
    },
    {
      "cell_type": "markdown",
      "metadata": {
        "id": "o1eOqE8rpNEB",
        "colab_type": "text"
      },
      "source": [
        "### Tokenization\n",
        "\n",
        "In the cells, below, I'm creating a couple **dictionaries** to convert the characters to and from integers. Encoding the characters as integers makes it easier to use as input in the network."
      ]
    },
    {
      "cell_type": "code",
      "metadata": {
        "id": "3xRBEK92pNEC",
        "colab_type": "code",
        "colab": {}
      },
      "source": [
        "# encode the text and map each character to an integer and vice versa\n",
        "\n",
        "# we create two dictionaries:\n",
        "# 1. int2char, which maps integers to characters\n",
        "# 2. char2int, which maps characters to unique integers\n",
        "chars = tuple(set(text))\n",
        "int2char = dict(enumerate(chars))\n",
        "char2int = {ch: ii for ii, ch in int2char.items()}\n",
        "\n",
        "# encode the text\n",
        "encoded = np.array([char2int[ch] for ch in text])"
      ],
      "execution_count": 0,
      "outputs": []
    },
    {
      "cell_type": "markdown",
      "metadata": {
        "id": "a1jZaimvpNEI",
        "colab_type": "text"
      },
      "source": [
        "And we can see those same characters from above, encoded as integers."
      ]
    },
    {
      "cell_type": "code",
      "metadata": {
        "id": "AkKDujngpNEL",
        "colab_type": "code",
        "colab": {
          "base_uri": "https://localhost:8080/",
          "height": 119
        },
        "outputId": "8e7c30fe-a33e-4594-85f7-22862df59bfb"
      },
      "source": [
        "encoded[:100]"
      ],
      "execution_count": 25,
      "outputs": [
        {
          "output_type": "execute_result",
          "data": {
            "text/plain": [
              "array([63, 10, 70, 69, 43, 18, 36, 33, 33, 33, 33, 33, 33, 65, 16, 81, 10,\n",
              "       75, 22, 84, 18, 36, 33, 33, 33, 33, 33, 33, 10, 69, 15, 50, 46, 71,\n",
              "       43,  1, 50, 59, 18, 15, 50, 18, 43, 45, 71, 18, 62, 26,  6,  6, 71,\n",
              "       69, 59, 18, 62,  6, 71,  2,  2, 71, 67, 18,  1, 28, 18, 50,  1, 43,\n",
              "       45, 15, 50,  7, 59, 18, 70, 50, 67, 18, 70,  2, 43, 45,  1, 26,  7,\n",
              "       45, 18, 64, 28, 71,  6, 71,  2, 26, 18,  2, 15, 31, 71, 67])"
            ]
          },
          "metadata": {
            "tags": []
          },
          "execution_count": 25
        }
      ]
    },
    {
      "cell_type": "markdown",
      "metadata": {
        "id": "yCCpJfP3pNER",
        "colab_type": "text"
      },
      "source": [
        "## Pre-processing the data\n",
        "\n",
        "As you can see in our char-RNN image above, our LSTM expects an input that is **one-hot encoded** meaning that each character is converted into an integer (via our created dictionary) and *then* converted into a column vector where only it's corresponding integer index will have the value of 1 and the rest of the vector will be filled with 0's. Since we're one-hot encoding the data, let's make a function to do that!\n"
      ]
    },
    {
      "cell_type": "code",
      "metadata": {
        "id": "001we_cipNET",
        "colab_type": "code",
        "colab": {}
      },
      "source": [
        "def one_hot_encode(arr, n_labels):\n",
        "    \n",
        "    # Initialize the the encoded array\n",
        "    one_hot = np.zeros((arr.size, n_labels), dtype=np.float32)\n",
        "    \n",
        "    # Fill the appropriate elements with ones\n",
        "    one_hot[np.arange(one_hot.shape[0]), arr.flatten()] = 1.\n",
        "    \n",
        "    # Finally reshape it to get back to the original array\n",
        "    one_hot = one_hot.reshape((*arr.shape, n_labels))\n",
        "    \n",
        "    return one_hot"
      ],
      "execution_count": 0,
      "outputs": []
    },
    {
      "cell_type": "code",
      "metadata": {
        "id": "Kimc1gaNpNEZ",
        "colab_type": "code",
        "colab": {
          "base_uri": "https://localhost:8080/",
          "height": 68
        },
        "outputId": "369c6522-97a0-4bc2-b6c1-d48bb371505b"
      },
      "source": [
        "# check that the function works as expected\n",
        "test_seq = np.array([[3, 5, 1]])\n",
        "one_hot = one_hot_encode(test_seq, 8)\n",
        "\n",
        "print(one_hot)"
      ],
      "execution_count": 27,
      "outputs": [
        {
          "output_type": "stream",
          "text": [
            "[[[0. 0. 0. 1. 0. 0. 0. 0.]\n",
            "  [0. 0. 0. 0. 0. 1. 0. 0.]\n",
            "  [0. 1. 0. 0. 0. 0. 0. 0.]]]\n"
          ],
          "name": "stdout"
        }
      ]
    },
    {
      "cell_type": "markdown",
      "metadata": {
        "id": "wk-KJQ9opNEf",
        "colab_type": "text"
      },
      "source": [
        "## Making training mini-batches\n",
        "\n",
        "\n",
        "To train on this data, we also want to create mini-batches for training. Remember that we want our batches to be multiple sequences of some desired number of sequence steps. Considering a simple example, our batches would look like this:\n",
        "\n",
        "<img src=\"assets/sequence_batching@1x.png\" width=500px>\n",
        "\n",
        "\n",
        "<br>\n",
        "\n",
        "In this example, we'll take the encoded characters (passed in as the `arr` parameter) and split them into multiple sequences, given by `batch_size`. Each of our sequences will be `seq_length` long.\n",
        "\n",
        "### Creating Batches\n",
        "\n",
        "**1. The first thing we need to do is discard some of the text so we only have completely full mini-batches. **\n",
        "\n",
        "Each batch contains $N \\times M$ characters, where $N$ is the batch size (the number of sequences in a batch) and $M$ is the seq_length or number of time steps in a sequence. Then, to get the total number of batches, $K$, that we can make from the array `arr`, you divide the length of `arr` by the number of characters per batch. Once you know the number of batches, you can get the total number of characters to keep from `arr`, $N * M * K$.\n",
        "\n",
        "**2. After that, we need to split `arr` into $N$ batches. ** \n",
        "\n",
        "You can do this using `arr.reshape(size)` where `size` is a tuple containing the dimensions sizes of the reshaped array. We know we want $N$ sequences in a batch, so let's make that the size of the first dimension. For the second dimension, you can use `-1` as a placeholder in the size, it'll fill up the array with the appropriate data for you. After this, you should have an array that is $N \\times (M * K)$.\n",
        "\n",
        "**3. Now that we have this array, we can iterate through it to get our mini-batches. **\n",
        "\n",
        "The idea is each batch is a $N \\times M$ window on the $N \\times (M * K)$ array. For each subsequent batch, the window moves over by `seq_length`. We also want to create both the input and target arrays. Remember that the targets are just the inputs shifted over by one character. The way I like to do this window is use `range` to take steps of size `n_steps` from $0$ to `arr.shape[1]`, the total number of tokens in each sequence. That way, the integers you get from `range` always point to the start of a batch, and each window is `seq_length` wide.\n",
        "\n",
        "> **TODO:** Write the code for creating batches in the function below. The exercises in this notebook _will not be easy_. I've provided a notebook with solutions alongside this notebook. If you get stuck, checkout the solutions. The most important thing is that you don't copy and paste the code into here, **type out the solution code yourself.**"
      ]
    },
    {
      "cell_type": "code",
      "metadata": {
        "id": "4-XmRfX1pNEg",
        "colab_type": "code",
        "colab": {}
      },
      "source": [
        "def get_batches(arr, batch_size, seq_length):\n",
        "    '''Create a generator that returns batches of size\n",
        "       batch_size x seq_length from arr.\n",
        "       \n",
        "       Arguments\n",
        "       ---------\n",
        "       arr: Array you want to make batches from\n",
        "       batch_size: Batch size, the number of sequences per batch\n",
        "       seq_length: Number of encoded chars in a sequence\n",
        "    '''\n",
        "    batch_size_total = batch_size * seq_length\n",
        "    ## TODO: Get the number of batches we can make\n",
        "    n_batches = len(arr)//batch_size_total\n",
        "    \n",
        "    ## TODO: Keep only enough characters to make full batches\n",
        "    arr = arr[:n_batches * batch_size_total]\n",
        "    \n",
        "    ## TODO: Reshape into batch_size rows\n",
        "    arr = arr.reshape((batch_size, -1))\n",
        "    \n",
        "    ## TODO: Iterate over the batches using a window of size seq_length\n",
        "    for n in range(0, arr.shape[1], seq_length):\n",
        "        # The features\n",
        "        x = arr[:, n:n+seq_length]\n",
        "        # The targets, shifted by one\n",
        "        y = np.zeros_like(x)\n",
        "        try:\n",
        "            y[:, :-1], y[:, -1] = x[:, 1:], arr[:, n+seq_length]\n",
        "        except IndexError:\n",
        "            y[:, :-1], y[:, -1] = x[:, 1:], arr[:, 0]\n",
        "        yield x, y"
      ],
      "execution_count": 0,
      "outputs": []
    },
    {
      "cell_type": "markdown",
      "metadata": {
        "id": "u3N2lJwKpNEm",
        "colab_type": "text"
      },
      "source": [
        "### Test Your Implementation\n",
        "\n",
        "Now I'll make some data sets and we can check out what's going on as we batch data. Here, as an example, I'm going to use a batch size of 8 and 50 sequence steps."
      ]
    },
    {
      "cell_type": "code",
      "metadata": {
        "id": "faOhnpR1pNEo",
        "colab_type": "code",
        "colab": {}
      },
      "source": [
        "batches = get_batches(encoded, 8, 50)\n",
        "x, y = next(batches)"
      ],
      "execution_count": 0,
      "outputs": []
    },
    {
      "cell_type": "code",
      "metadata": {
        "id": "RpJ-UE_JpNEu",
        "colab_type": "code",
        "colab": {
          "base_uri": "https://localhost:8080/",
          "height": 340
        },
        "outputId": "7a721974-7e8b-45b1-eedb-afb229c8a170"
      },
      "source": [
        "# printing out the first 10 items in a sequence\n",
        "print('x\\n', x[:10, :10])\n",
        "print('\\ny\\n', y[:10, :10])"
      ],
      "execution_count": 30,
      "outputs": [
        {
          "output_type": "stream",
          "text": [
            "x\n",
            " [[63 10 70 69 43 18 36 33 33 33]\n",
            " [62 18 70 50 67 18 70 69 43 15]\n",
            " [18 54  1 26  2 67 18 50  1 43]\n",
            " [59 18 70 50 67 18 54 45 71 50]\n",
            " [62 44 18 30  1 62 43 18  1 28]\n",
            " [67 18 54 45 71 50 18 64 28 71]\n",
            " [71 69 59 18 45  1  2 67 15 50]\n",
            " [69 15 24 71 18 45 70 67 18 25]]\n",
            "\n",
            "y\n",
            " [[10 70 69 43 18 36 33 33 33 33]\n",
            " [18 70 50 67 18 70 69 43 15 46]\n",
            " [54  1 26  2 67 18 50  1 43 18]\n",
            " [18 70 50 67 18 54 45 71 50 18]\n",
            " [44 18 30  1 62 43 18  1 28 18]\n",
            " [18 54 45 71 50 18 64 28 71  6]\n",
            " [69 59 18 45  1  2 67 15 50  7]\n",
            " [15 24 71 18 45 70 67 18 25  2]]\n"
          ],
          "name": "stdout"
        }
      ]
    },
    {
      "cell_type": "markdown",
      "metadata": {
        "id": "LBw--gvDpNE0",
        "colab_type": "text"
      },
      "source": [
        "If you implemented `get_batches` correctly, the above output should look something like \n",
        "```\n",
        "x\n",
        " [[25  8 60 11 45 27 28 73  1  2]\n",
        " [17  7 20 73 45  8 60 45 73 60]\n",
        " [27 20 80 73  7 28 73 60 73 65]\n",
        " [17 73 45  8 27 73 66  8 46 27]\n",
        " [73 17 60 12 73  8 27 28 73 45]\n",
        " [66 64 17 17 46  7 20 73 60 20]\n",
        " [73 76 20 20 60 73  8 60 80 73]\n",
        " [47 35 43  7 20 17 24 50 37 73]]\n",
        "\n",
        "y\n",
        " [[ 8 60 11 45 27 28 73  1  2  2]\n",
        " [ 7 20 73 45  8 60 45 73 60 45]\n",
        " [20 80 73  7 28 73 60 73 65  7]\n",
        " [73 45  8 27 73 66  8 46 27 65]\n",
        " [17 60 12 73  8 27 28 73 45 27]\n",
        " [64 17 17 46  7 20 73 60 20 80]\n",
        " [76 20 20 60 73  8 60 80 73 17]\n",
        " [35 43  7 20 17 24 50 37 73 36]]\n",
        " ```\n",
        " although the exact numbers may be different. Check to make sure the data is shifted over one step for `y`."
      ]
    },
    {
      "cell_type": "markdown",
      "metadata": {
        "id": "P46dmpXxpNE1",
        "colab_type": "text"
      },
      "source": [
        "---\n",
        "## Defining the network with PyTorch\n",
        "\n",
        "Below is where you'll define the network.\n",
        "\n",
        "<img src=\"assets/charRNN.png\" width=500px>\n",
        "\n",
        "Next, you'll use PyTorch to define the architecture of the network. We start by defining the layers and operations we want. Then, define a method for the forward pass. You've also been given a method for predicting characters."
      ]
    },
    {
      "cell_type": "markdown",
      "metadata": {
        "id": "pS9hwXy6pNE2",
        "colab_type": "text"
      },
      "source": [
        "### Model Structure\n",
        "\n",
        "In `__init__` the suggested structure is as follows:\n",
        "* Create and store the necessary dictionaries (this has been done for you)\n",
        "* Define an LSTM layer that takes as params: an input size (the number of characters), a hidden layer size `n_hidden`, a number of layers `n_layers`, a dropout probability `drop_prob`, and a batch_first boolean (True, since we are batching)\n",
        "* Define a dropout layer with `drop_prob`\n",
        "* Define a fully-connected layer with params: input size `n_hidden` and output size (the number of characters)\n",
        "* Finally, initialize the weights (again, this has been given)\n",
        "\n",
        "Note that some parameters have been named and given in the `__init__` function, and we use them and store them by doing something like `self.drop_prob = drop_prob`."
      ]
    },
    {
      "cell_type": "markdown",
      "metadata": {
        "id": "XwzcLkjUpNE3",
        "colab_type": "text"
      },
      "source": [
        "---\n",
        "### LSTM Inputs/Outputs\n",
        "\n",
        "You can create a basic [LSTM layer](https://pytorch.org/docs/stable/nn.html#lstm) as follows\n",
        "\n",
        "```python\n",
        "self.lstm = nn.LSTM(input_size, n_hidden, n_layers, \n",
        "                            dropout=drop_prob, batch_first=True)\n",
        "```\n",
        "\n",
        "where `input_size` is the number of characters this cell expects to see as sequential input, and `n_hidden` is the number of units in the hidden layers in the cell. And we can add dropout by adding a dropout parameter with a specified probability; this will automatically add dropout to the inputs or outputs. Finally, in the `forward` function, we can stack up the LSTM cells into layers using `.view`. With this, you pass in a list of cells and it will send the output of one cell into the next cell.\n",
        "\n",
        "We also need to create an initial hidden state of all zeros. This is done like so\n",
        "\n",
        "```python\n",
        "self.init_hidden()\n",
        "```"
      ]
    },
    {
      "cell_type": "code",
      "metadata": {
        "id": "q8KqBg2XpNE4",
        "colab_type": "code",
        "colab": {
          "base_uri": "https://localhost:8080/",
          "height": 34
        },
        "outputId": "417ea686-b4c7-48df-fe41-b3487fcd3680"
      },
      "source": [
        "# check if GPU is available\n",
        "train_on_gpu = torch.cuda.is_available()\n",
        "if(train_on_gpu):\n",
        "    print('Training on GPU!')\n",
        "else: \n",
        "    print('No GPU available, training on CPU; consider making n_epochs very small.')"
      ],
      "execution_count": 31,
      "outputs": [
        {
          "output_type": "stream",
          "text": [
            "Training on GPU!\n"
          ],
          "name": "stdout"
        }
      ]
    },
    {
      "cell_type": "code",
      "metadata": {
        "id": "J9ZnkvYKpNFA",
        "colab_type": "code",
        "colab": {}
      },
      "source": [
        "class CharRNN(nn.Module):\n",
        "    \n",
        "    def __init__(self, tokens, n_hidden=256, n_layers=2,\n",
        "                               drop_prob=0.5, lr=0.001):\n",
        "        super().__init__()\n",
        "        self.drop_prob = drop_prob\n",
        "        self.n_layers = n_layers\n",
        "        self.n_hidden = n_hidden\n",
        "        self.lr = lr\n",
        "        \n",
        "        # creating character dictionaries\n",
        "        self.chars = tokens\n",
        "        self.int2char = dict(enumerate(self.chars))\n",
        "        self.char2int = {ch: ii for ii, ch in self.int2char.items()}\n",
        "        \n",
        "        ## TODO: define the layers of the model\n",
        "        ## TODO: define the LSTM\n",
        "        self.lstm = nn.LSTM(len(self.chars), n_hidden, n_layers, \n",
        "                            dropout=drop_prob, batch_first=True)\n",
        "        \n",
        "        ## TODO: define a dropout layer\n",
        "        self.dropout = nn.Dropout(drop_prob)\n",
        "        \n",
        "        ## TODO: define the final, fully-connected output layer\n",
        "        self.fc = nn.Linear(n_hidden, len(self.chars))\n",
        "      \n",
        "    \n",
        "    def forward(self, x, hidden):\n",
        "        ''' Forward pass through the network. \n",
        "            These inputs are x, and the hidden/cell state `hidden`. '''\n",
        "                \n",
        "        ## TODO: Get the outputs and the new hidden state from the lstm\n",
        "        r_output, hidden = self.lstm(x, hidden)\n",
        "      \n",
        "        ## TODO: pass through a dropout layer\n",
        "        out = self.dropout(r_output)\n",
        "        \n",
        "        # Stack up LSTM outputs using view\n",
        "        # you may need to use contiguous to reshape the output\n",
        "        out = out.contiguous().view(-1, self.n_hidden)\n",
        "        \n",
        "        ## TODO: put x through the fully-connected layer\n",
        "        out = self.fc(out)\n",
        "        \n",
        "        # return the final output and the hidden state\n",
        "        return out, hidden\n",
        "    \n",
        "    \n",
        "    def init_hidden(self, batch_size):\n",
        "        ''' Initializes hidden state '''\n",
        "        # Create two new tensors with sizes n_layers x batch_size x n_hidden,\n",
        "        # initialized to zero, for hidden state and cell state of LSTM\n",
        "        weight = next(self.parameters()).data\n",
        "        \n",
        "        if (train_on_gpu):\n",
        "            hidden = (weight.new(self.n_layers, batch_size, self.n_hidden).zero_().cuda(),\n",
        "                  weight.new(self.n_layers, batch_size, self.n_hidden).zero_().cuda())\n",
        "        else:\n",
        "            hidden = (weight.new(self.n_layers, batch_size, self.n_hidden).zero_(),\n",
        "                      weight.new(self.n_layers, batch_size, self.n_hidden).zero_())\n",
        "        \n",
        "        return hidden\n",
        "        "
      ],
      "execution_count": 0,
      "outputs": []
    },
    {
      "cell_type": "markdown",
      "metadata": {
        "id": "ikvPvR-5pNFH",
        "colab_type": "text"
      },
      "source": [
        "## Time to train\n",
        "\n",
        "The train function gives us the ability to set the number of epochs, the learning rate, and other parameters.\n",
        "\n",
        "Below we're using an Adam optimizer and cross entropy loss since we are looking at character class scores as output. We calculate the loss and perform backpropagation, as usual!\n",
        "\n",
        "A couple of details about training: \n",
        ">* Within the batch loop, we detach the hidden state from its history; this time setting it equal to a new *tuple* variable because an LSTM has a hidden state that is a tuple of the hidden and cell states.\n",
        "* We use [`clip_grad_norm_`](https://pytorch.org/docs/stable/_modules/torch/nn/utils/clip_grad.html) to help prevent exploding gradients."
      ]
    },
    {
      "cell_type": "code",
      "metadata": {
        "id": "0fQ1wnVVpNFI",
        "colab_type": "code",
        "colab": {}
      },
      "source": [
        "def train(net, data, epochs=10, batch_size=10, seq_length=50, lr=0.001, clip=5, val_frac=0.1, print_every=10):\n",
        "    ''' Training a network \n",
        "    \n",
        "        Arguments\n",
        "        ---------\n",
        "        \n",
        "        net: CharRNN network\n",
        "        data: text data to train the network\n",
        "        epochs: Number of epochs to train\n",
        "        batch_size: Number of mini-sequences per mini-batch, aka batch size\n",
        "        seq_length: Number of character steps per mini-batch\n",
        "        lr: learning rate\n",
        "        clip: gradient clipping\n",
        "        val_frac: Fraction of data to hold out for validation\n",
        "        print_every: Number of steps for printing training and validation loss\n",
        "    \n",
        "    '''\n",
        "    net.train()\n",
        "    \n",
        "    opt = torch.optim.Adam(net.parameters(), lr=lr)\n",
        "    criterion = nn.CrossEntropyLoss()\n",
        "    \n",
        "    # create training and validation data\n",
        "    val_idx = int(len(data)*(1-val_frac))\n",
        "    data, val_data = data[:val_idx], data[val_idx:]\n",
        "    \n",
        "    if(train_on_gpu):\n",
        "        net.cuda()\n",
        "    \n",
        "    counter = 0\n",
        "    n_chars = len(net.chars)\n",
        "    for e in range(epochs):\n",
        "        # initialize hidden state\n",
        "        h = net.init_hidden(batch_size)\n",
        "        \n",
        "        for x, y in get_batches(data, batch_size, seq_length):\n",
        "            counter += 1\n",
        "            \n",
        "            # One-hot encode our data and make them Torch tensors\n",
        "            x = one_hot_encode(x, n_chars)\n",
        "            inputs, targets = torch.from_numpy(x), torch.from_numpy(y)\n",
        "            \n",
        "            if(train_on_gpu):\n",
        "                inputs, targets = inputs.cuda(), targets.cuda()\n",
        "\n",
        "            # Creating new variables for the hidden state, otherwise\n",
        "            # we'd backprop through the entire training history\n",
        "            h = tuple([each.data for each in h])\n",
        "\n",
        "            # zero accumulated gradients\n",
        "            net.zero_grad()\n",
        "            \n",
        "            # get the output from the model\n",
        "            output, h = net(inputs, h)\n",
        "            \n",
        "            # calculate the loss and perform backprop\n",
        "            loss = criterion(output, targets.view(batch_size*seq_length).long())\n",
        "            loss.backward()\n",
        "            # `clip_grad_norm` helps prevent the exploding gradient problem in RNNs / LSTMs.\n",
        "            nn.utils.clip_grad_norm_(net.parameters(), clip)\n",
        "            opt.step()\n",
        "            \n",
        "            # loss stats\n",
        "            if counter % print_every == 0:\n",
        "                # Get validation loss\n",
        "                val_h = net.init_hidden(batch_size)\n",
        "                val_losses = []\n",
        "                net.eval()\n",
        "                for x, y in get_batches(val_data, batch_size, seq_length):\n",
        "                    # One-hot encode our data and make them Torch tensors\n",
        "                    x = one_hot_encode(x, n_chars)\n",
        "                    x, y = torch.from_numpy(x), torch.from_numpy(y)\n",
        "                    \n",
        "                    # Creating new variables for the hidden state, otherwise\n",
        "                    # we'd backprop through the entire training history\n",
        "                    val_h = tuple([each.data for each in val_h])\n",
        "                    \n",
        "                    inputs, targets = x, y\n",
        "                    if(train_on_gpu):\n",
        "                        inputs, targets = inputs.cuda(), targets.cuda()\n",
        "\n",
        "                    output, val_h = net(inputs, val_h)\n",
        "                    val_loss = criterion(output, targets.view(batch_size*seq_length).long())\n",
        "                \n",
        "                    val_losses.append(val_loss.item())\n",
        "                \n",
        "                net.train() # reset to train mode after iterationg through validation data\n",
        "                \n",
        "                print(\"Epoch: {}/{}...\".format(e+1, epochs),\n",
        "                      \"Step: {}...\".format(counter),\n",
        "                      \"Loss: {:.4f}...\".format(loss.item()),\n",
        "                      \"Val Loss: {:.4f}\".format(np.mean(val_losses)))"
      ],
      "execution_count": 0,
      "outputs": []
    },
    {
      "cell_type": "markdown",
      "metadata": {
        "id": "cCqRtccepNFO",
        "colab_type": "text"
      },
      "source": [
        "## Instantiating the model\n",
        "\n",
        "Now we can actually train the network. First we'll create the network itself, with some given hyperparameters. Then, define the mini-batches sizes, and start training!"
      ]
    },
    {
      "cell_type": "code",
      "metadata": {
        "id": "C-n2n1OnpNFP",
        "colab_type": "code",
        "colab": {
          "base_uri": "https://localhost:8080/",
          "height": 102
        },
        "outputId": "7e85a3f6-438a-4469-d032-54f2bb5caff2"
      },
      "source": [
        "## TODO: set your model hyperparameters\n",
        "# define and print the net\n",
        "n_hidden= 512\n",
        "n_layers= 2\n",
        "\n",
        "net = CharRNN(chars, n_hidden, n_layers)\n",
        "print(net)"
      ],
      "execution_count": 34,
      "outputs": [
        {
          "output_type": "stream",
          "text": [
            "CharRNN(\n",
            "  (lstm): LSTM(88, 512, num_layers=2, batch_first=True, dropout=0.5)\n",
            "  (dropout): Dropout(p=0.5, inplace=False)\n",
            "  (fc): Linear(in_features=512, out_features=88, bias=True)\n",
            ")\n"
          ],
          "name": "stdout"
        }
      ]
    },
    {
      "cell_type": "markdown",
      "metadata": {
        "id": "QTVEx2aBpNFV",
        "colab_type": "text"
      },
      "source": [
        "### Set your training hyperparameters!"
      ]
    },
    {
      "cell_type": "code",
      "metadata": {
        "scrolled": true,
        "id": "EFNKXP1XpNFW",
        "colab_type": "code",
        "colab": {
          "base_uri": "https://localhost:8080/",
          "height": 1000
        },
        "outputId": "d52b3db3-13ed-4ab5-972f-fb21cc7a9760"
      },
      "source": [
        "batch_size = 128\n",
        "seq_length = 100\n",
        "n_epochs = 30 # start small if you are just testing initial behavior\n",
        "\n",
        "# train the model\n",
        "train(net, encoded, epochs=n_epochs, batch_size=batch_size, seq_length=seq_length, lr=0.001, print_every=10)"
      ],
      "execution_count": 44,
      "outputs": [
        {
          "output_type": "stream",
          "text": [
            "Epoch: 1/30... Step: 10... Loss: 1.8845... Val Loss: 1.7938\n",
            "Epoch: 1/30... Step: 20... Loss: 1.8664... Val Loss: 1.7710\n",
            "Epoch: 1/30... Step: 30... Loss: 1.8691... Val Loss: 1.7545\n",
            "Epoch: 1/30... Step: 40... Loss: 1.8414... Val Loss: 1.7467\n",
            "Epoch: 1/30... Step: 50... Loss: 1.8482... Val Loss: 1.7385\n",
            "Epoch: 1/30... Step: 60... Loss: 1.8257... Val Loss: 1.7326\n",
            "Epoch: 2/30... Step: 70... Loss: 1.8312... Val Loss: 1.7237\n",
            "Epoch: 2/30... Step: 80... Loss: 1.8078... Val Loss: 1.7171\n",
            "Epoch: 2/30... Step: 90... Loss: 1.8310... Val Loss: 1.7106\n",
            "Epoch: 2/30... Step: 100... Loss: 1.7969... Val Loss: 1.7031\n",
            "Epoch: 2/30... Step: 110... Loss: 1.7652... Val Loss: 1.7004\n",
            "Epoch: 2/30... Step: 120... Loss: 1.7981... Val Loss: 1.6925\n",
            "Epoch: 2/30... Step: 130... Loss: 1.8191... Val Loss: 1.6844\n",
            "Epoch: 3/30... Step: 140... Loss: 1.7814... Val Loss: 1.6812\n",
            "Epoch: 3/30... Step: 150... Loss: 1.7770... Val Loss: 1.6745\n",
            "Epoch: 3/30... Step: 160... Loss: 1.7883... Val Loss: 1.6684\n",
            "Epoch: 3/30... Step: 170... Loss: 1.7567... Val Loss: 1.6602\n",
            "Epoch: 3/30... Step: 180... Loss: 1.7614... Val Loss: 1.6525\n",
            "Epoch: 3/30... Step: 190... Loss: 1.7520... Val Loss: 1.6547\n",
            "Epoch: 4/30... Step: 200... Loss: 1.7467... Val Loss: 1.6435\n",
            "Epoch: 4/30... Step: 210... Loss: 1.7367... Val Loss: 1.6366\n",
            "Epoch: 4/30... Step: 220... Loss: 1.7546... Val Loss: 1.6283\n",
            "Epoch: 4/30... Step: 230... Loss: 1.7104... Val Loss: 1.6235\n",
            "Epoch: 4/30... Step: 240... Loss: 1.6769... Val Loss: 1.6167\n",
            "Epoch: 4/30... Step: 250... Loss: 1.7095... Val Loss: 1.6092\n",
            "Epoch: 4/30... Step: 260... Loss: 1.7328... Val Loss: 1.6034\n",
            "Epoch: 5/30... Step: 270... Loss: 1.6985... Val Loss: 1.6024\n",
            "Epoch: 5/30... Step: 280... Loss: 1.6966... Val Loss: 1.5959\n",
            "Epoch: 5/30... Step: 290... Loss: 1.7064... Val Loss: 1.5978\n",
            "Epoch: 5/30... Step: 300... Loss: 1.6823... Val Loss: 1.5850\n",
            "Epoch: 5/30... Step: 310... Loss: 1.6875... Val Loss: 1.5780\n",
            "Epoch: 5/30... Step: 320... Loss: 1.6678... Val Loss: 1.5708\n",
            "Epoch: 6/30... Step: 330... Loss: 1.6601... Val Loss: 1.5666\n",
            "Epoch: 6/30... Step: 340... Loss: 1.6523... Val Loss: 1.5582\n",
            "Epoch: 6/30... Step: 350... Loss: 1.6804... Val Loss: 1.5543\n",
            "Epoch: 6/30... Step: 360... Loss: 1.6348... Val Loss: 1.5525\n",
            "Epoch: 6/30... Step: 370... Loss: 1.6083... Val Loss: 1.5471\n",
            "Epoch: 6/30... Step: 380... Loss: 1.6273... Val Loss: 1.5416\n",
            "Epoch: 6/30... Step: 390... Loss: 1.6770... Val Loss: 1.5354\n",
            "Epoch: 7/30... Step: 400... Loss: 1.6246... Val Loss: 1.5289\n",
            "Epoch: 7/30... Step: 410... Loss: 1.6178... Val Loss: 1.5246\n",
            "Epoch: 7/30... Step: 420... Loss: 1.6310... Val Loss: 1.5213\n",
            "Epoch: 7/30... Step: 430... Loss: 1.6065... Val Loss: 1.5175\n",
            "Epoch: 7/30... Step: 440... Loss: 1.6115... Val Loss: 1.5138\n",
            "Epoch: 7/30... Step: 450... Loss: 1.6017... Val Loss: 1.5072\n",
            "Epoch: 8/30... Step: 460... Loss: 1.5992... Val Loss: 1.5026\n",
            "Epoch: 8/30... Step: 470... Loss: 1.5821... Val Loss: 1.4996\n",
            "Epoch: 8/30... Step: 480... Loss: 1.6078... Val Loss: 1.4968\n",
            "Epoch: 8/30... Step: 490... Loss: 1.5722... Val Loss: 1.4914\n",
            "Epoch: 8/30... Step: 500... Loss: 1.5372... Val Loss: 1.4886\n",
            "Epoch: 8/30... Step: 510... Loss: 1.5578... Val Loss: 1.4831\n",
            "Epoch: 8/30... Step: 520... Loss: 1.6086... Val Loss: 1.4816\n",
            "Epoch: 9/30... Step: 530... Loss: 1.5613... Val Loss: 1.4769\n",
            "Epoch: 9/30... Step: 540... Loss: 1.5531... Val Loss: 1.4709\n",
            "Epoch: 9/30... Step: 550... Loss: 1.5696... Val Loss: 1.4682\n",
            "Epoch: 9/30... Step: 560... Loss: 1.5395... Val Loss: 1.4682\n",
            "Epoch: 9/30... Step: 570... Loss: 1.5561... Val Loss: 1.4616\n",
            "Epoch: 9/30... Step: 580... Loss: 1.5449... Val Loss: 1.4589\n",
            "Epoch: 10/30... Step: 590... Loss: 1.5327... Val Loss: 1.4550\n",
            "Epoch: 10/30... Step: 600... Loss: 1.5319... Val Loss: 1.4528\n",
            "Epoch: 10/30... Step: 610... Loss: 1.5490... Val Loss: 1.4505\n",
            "Epoch: 10/30... Step: 620... Loss: 1.5225... Val Loss: 1.4464\n",
            "Epoch: 10/30... Step: 630... Loss: 1.4833... Val Loss: 1.4432\n",
            "Epoch: 10/30... Step: 640... Loss: 1.5128... Val Loss: 1.4400\n",
            "Epoch: 10/30... Step: 650... Loss: 1.5604... Val Loss: 1.4397\n",
            "Epoch: 11/30... Step: 660... Loss: 1.5174... Val Loss: 1.4373\n",
            "Epoch: 11/30... Step: 670... Loss: 1.5023... Val Loss: 1.4305\n",
            "Epoch: 11/30... Step: 680... Loss: 1.5232... Val Loss: 1.4293\n",
            "Epoch: 11/30... Step: 690... Loss: 1.5077... Val Loss: 1.4307\n",
            "Epoch: 11/30... Step: 700... Loss: 1.5066... Val Loss: 1.4244\n",
            "Epoch: 11/30... Step: 710... Loss: 1.4968... Val Loss: 1.4233\n",
            "Epoch: 12/30... Step: 720... Loss: 1.5048... Val Loss: 1.4208\n",
            "Epoch: 12/30... Step: 730... Loss: 1.4963... Val Loss: 1.4191\n",
            "Epoch: 12/30... Step: 740... Loss: 1.5088... Val Loss: 1.4153\n",
            "Epoch: 12/30... Step: 750... Loss: 1.4744... Val Loss: 1.4127\n",
            "Epoch: 12/30... Step: 760... Loss: 1.4415... Val Loss: 1.4081\n",
            "Epoch: 12/30... Step: 770... Loss: 1.4726... Val Loss: 1.4068\n",
            "Epoch: 12/30... Step: 780... Loss: 1.5243... Val Loss: 1.4015\n",
            "Epoch: 13/30... Step: 790... Loss: 1.4676... Val Loss: 1.4010\n",
            "Epoch: 13/30... Step: 800... Loss: 1.4633... Val Loss: 1.3984\n",
            "Epoch: 13/30... Step: 810... Loss: 1.4811... Val Loss: 1.4001\n",
            "Epoch: 13/30... Step: 820... Loss: 1.4587... Val Loss: 1.4002\n",
            "Epoch: 13/30... Step: 830... Loss: 1.4650... Val Loss: 1.3931\n",
            "Epoch: 13/30... Step: 840... Loss: 1.4577... Val Loss: 1.3909\n",
            "Epoch: 14/30... Step: 850... Loss: 1.4559... Val Loss: 1.3871\n",
            "Epoch: 14/30... Step: 860... Loss: 1.4506... Val Loss: 1.3850\n",
            "Epoch: 14/30... Step: 870... Loss: 1.4670... Val Loss: 1.3876\n",
            "Epoch: 14/30... Step: 880... Loss: 1.4396... Val Loss: 1.3838\n",
            "Epoch: 14/30... Step: 890... Loss: 1.4129... Val Loss: 1.3792\n",
            "Epoch: 14/30... Step: 900... Loss: 1.4315... Val Loss: 1.3795\n",
            "Epoch: 14/30... Step: 910... Loss: 1.4772... Val Loss: 1.3746\n",
            "Epoch: 15/30... Step: 920... Loss: 1.4404... Val Loss: 1.3761\n",
            "Epoch: 15/30... Step: 930... Loss: 1.4366... Val Loss: 1.3724\n",
            "Epoch: 15/30... Step: 940... Loss: 1.4444... Val Loss: 1.3732\n",
            "Epoch: 15/30... Step: 950... Loss: 1.4310... Val Loss: 1.3715\n",
            "Epoch: 15/30... Step: 960... Loss: 1.4303... Val Loss: 1.3695\n",
            "Epoch: 15/30... Step: 970... Loss: 1.4263... Val Loss: 1.3660\n",
            "Epoch: 16/30... Step: 980... Loss: 1.4290... Val Loss: 1.3630\n",
            "Epoch: 16/30... Step: 990... Loss: 1.4216... Val Loss: 1.3619\n",
            "Epoch: 16/30... Step: 1000... Loss: 1.4303... Val Loss: 1.3631\n",
            "Epoch: 16/30... Step: 1010... Loss: 1.4045... Val Loss: 1.3603\n",
            "Epoch: 16/30... Step: 1020... Loss: 1.3750... Val Loss: 1.3574\n",
            "Epoch: 16/30... Step: 1030... Loss: 1.3902... Val Loss: 1.3562\n",
            "Epoch: 16/30... Step: 1040... Loss: 1.4504... Val Loss: 1.3530\n",
            "Epoch: 17/30... Step: 1050... Loss: 1.4089... Val Loss: 1.3535\n",
            "Epoch: 17/30... Step: 1060... Loss: 1.4011... Val Loss: 1.3521\n",
            "Epoch: 17/30... Step: 1070... Loss: 1.4140... Val Loss: 1.3531\n",
            "Epoch: 17/30... Step: 1080... Loss: 1.4018... Val Loss: 1.3497\n",
            "Epoch: 17/30... Step: 1090... Loss: 1.3965... Val Loss: 1.3490\n",
            "Epoch: 17/30... Step: 1100... Loss: 1.3979... Val Loss: 1.3468\n",
            "Epoch: 18/30... Step: 1110... Loss: 1.3908... Val Loss: 1.3447\n",
            "Epoch: 18/30... Step: 1120... Loss: 1.3891... Val Loss: 1.3430\n",
            "Epoch: 18/30... Step: 1130... Loss: 1.4102... Val Loss: 1.3481\n",
            "Epoch: 18/30... Step: 1140... Loss: 1.3803... Val Loss: 1.3435\n",
            "Epoch: 18/30... Step: 1150... Loss: 1.3490... Val Loss: 1.3422\n",
            "Epoch: 18/30... Step: 1160... Loss: 1.3655... Val Loss: 1.3383\n",
            "Epoch: 18/30... Step: 1170... Loss: 1.4317... Val Loss: 1.3352\n",
            "Epoch: 19/30... Step: 1180... Loss: 1.3819... Val Loss: 1.3369\n",
            "Epoch: 19/30... Step: 1190... Loss: 1.3799... Val Loss: 1.3340\n",
            "Epoch: 19/30... Step: 1200... Loss: 1.3865... Val Loss: 1.3365\n",
            "Epoch: 19/30... Step: 1210... Loss: 1.3792... Val Loss: 1.3359\n",
            "Epoch: 19/30... Step: 1220... Loss: 1.3844... Val Loss: 1.3340\n",
            "Epoch: 19/30... Step: 1230... Loss: 1.3790... Val Loss: 1.3326\n",
            "Epoch: 20/30... Step: 1240... Loss: 1.3811... Val Loss: 1.3292\n",
            "Epoch: 20/30... Step: 1250... Loss: 1.3676... Val Loss: 1.3300\n",
            "Epoch: 20/30... Step: 1260... Loss: 1.3762... Val Loss: 1.3292\n",
            "Epoch: 20/30... Step: 1270... Loss: 1.3515... Val Loss: 1.3270\n",
            "Epoch: 20/30... Step: 1280... Loss: 1.3285... Val Loss: 1.3264\n",
            "Epoch: 20/30... Step: 1290... Loss: 1.3385... Val Loss: 1.3243\n",
            "Epoch: 20/30... Step: 1300... Loss: 1.4098... Val Loss: 1.3229\n",
            "Epoch: 21/30... Step: 1310... Loss: 1.3556... Val Loss: 1.3218\n",
            "Epoch: 21/30... Step: 1320... Loss: 1.3549... Val Loss: 1.3235\n",
            "Epoch: 21/30... Step: 1330... Loss: 1.3609... Val Loss: 1.3201\n",
            "Epoch: 21/30... Step: 1340... Loss: 1.3450... Val Loss: 1.3213\n",
            "Epoch: 21/30... Step: 1350... Loss: 1.3475... Val Loss: 1.3235\n",
            "Epoch: 21/30... Step: 1360... Loss: 1.3470... Val Loss: 1.3205\n",
            "Epoch: 22/30... Step: 1370... Loss: 1.3521... Val Loss: 1.3176\n",
            "Epoch: 22/30... Step: 1380... Loss: 1.3482... Val Loss: 1.3162\n",
            "Epoch: 22/30... Step: 1390... Loss: 1.3557... Val Loss: 1.3173\n",
            "Epoch: 22/30... Step: 1400... Loss: 1.3313... Val Loss: 1.3163\n",
            "Epoch: 22/30... Step: 1410... Loss: 1.3075... Val Loss: 1.3148\n",
            "Epoch: 22/30... Step: 1420... Loss: 1.3268... Val Loss: 1.3124\n",
            "Epoch: 22/30... Step: 1430... Loss: 1.3809... Val Loss: 1.3098\n",
            "Epoch: 23/30... Step: 1440... Loss: 1.3331... Val Loss: 1.3104\n",
            "Epoch: 23/30... Step: 1450... Loss: 1.3287... Val Loss: 1.3091\n",
            "Epoch: 23/30... Step: 1460... Loss: 1.3515... Val Loss: 1.3098\n",
            "Epoch: 23/30... Step: 1470... Loss: 1.3344... Val Loss: 1.3099\n",
            "Epoch: 23/30... Step: 1480... Loss: 1.3275... Val Loss: 1.3131\n",
            "Epoch: 23/30... Step: 1490... Loss: 1.3220... Val Loss: 1.3087\n",
            "Epoch: 24/30... Step: 1500... Loss: 1.3405... Val Loss: 1.3073\n",
            "Epoch: 24/30... Step: 1510... Loss: 1.3297... Val Loss: 1.3055\n",
            "Epoch: 24/30... Step: 1520... Loss: 1.3369... Val Loss: 1.3074\n",
            "Epoch: 24/30... Step: 1530... Loss: 1.3184... Val Loss: 1.3063\n",
            "Epoch: 24/30... Step: 1540... Loss: 1.2884... Val Loss: 1.3057\n",
            "Epoch: 24/30... Step: 1550... Loss: 1.2941... Val Loss: 1.3024\n",
            "Epoch: 24/30... Step: 1560... Loss: 1.3702... Val Loss: 1.2997\n",
            "Epoch: 25/30... Step: 1570... Loss: 1.3193... Val Loss: 1.3000\n",
            "Epoch: 25/30... Step: 1580... Loss: 1.3105... Val Loss: 1.2987\n",
            "Epoch: 25/30... Step: 1590... Loss: 1.3307... Val Loss: 1.3005\n",
            "Epoch: 25/30... Step: 1600... Loss: 1.3111... Val Loss: 1.3018\n",
            "Epoch: 25/30... Step: 1610... Loss: 1.3158... Val Loss: 1.3003\n",
            "Epoch: 25/30... Step: 1620... Loss: 1.3033... Val Loss: 1.3010\n",
            "Epoch: 26/30... Step: 1630... Loss: 1.3168... Val Loss: 1.2958\n",
            "Epoch: 26/30... Step: 1640... Loss: 1.3020... Val Loss: 1.2962\n",
            "Epoch: 26/30... Step: 1650... Loss: 1.3186... Val Loss: 1.2963\n",
            "Epoch: 26/30... Step: 1660... Loss: 1.2950... Val Loss: 1.2970\n",
            "Epoch: 26/30... Step: 1670... Loss: 1.2666... Val Loss: 1.2940\n",
            "Epoch: 26/30... Step: 1680... Loss: 1.2792... Val Loss: 1.2949\n",
            "Epoch: 26/30... Step: 1690... Loss: 1.3471... Val Loss: 1.2923\n",
            "Epoch: 27/30... Step: 1700... Loss: 1.2998... Val Loss: 1.2917\n",
            "Epoch: 27/30... Step: 1710... Loss: 1.2872... Val Loss: 1.2918\n",
            "Epoch: 27/30... Step: 1720... Loss: 1.3114... Val Loss: 1.2911\n",
            "Epoch: 27/30... Step: 1730... Loss: 1.2986... Val Loss: 1.2922\n",
            "Epoch: 27/30... Step: 1740... Loss: 1.3004... Val Loss: 1.2908\n",
            "Epoch: 27/30... Step: 1750... Loss: 1.2897... Val Loss: 1.2913\n",
            "Epoch: 28/30... Step: 1760... Loss: 1.2969... Val Loss: 1.2890\n",
            "Epoch: 28/30... Step: 1770... Loss: 1.2962... Val Loss: 1.2893\n",
            "Epoch: 28/30... Step: 1780... Loss: 1.2940... Val Loss: 1.2889\n",
            "Epoch: 28/30... Step: 1790... Loss: 1.2830... Val Loss: 1.2924\n",
            "Epoch: 28/30... Step: 1800... Loss: 1.2589... Val Loss: 1.2893\n",
            "Epoch: 28/30... Step: 1810... Loss: 1.2688... Val Loss: 1.2891\n",
            "Epoch: 28/30... Step: 1820... Loss: 1.3349... Val Loss: 1.2863\n",
            "Epoch: 29/30... Step: 1830... Loss: 1.2757... Val Loss: 1.2854\n",
            "Epoch: 29/30... Step: 1840... Loss: 1.2787... Val Loss: 1.2832\n",
            "Epoch: 29/30... Step: 1850... Loss: 1.2935... Val Loss: 1.2862\n",
            "Epoch: 29/30... Step: 1860... Loss: 1.2773... Val Loss: 1.2864\n",
            "Epoch: 29/30... Step: 1870... Loss: 1.2848... Val Loss: 1.2859\n",
            "Epoch: 29/30... Step: 1880... Loss: 1.2788... Val Loss: 1.2848\n",
            "Epoch: 30/30... Step: 1890... Loss: 1.2811... Val Loss: 1.2810\n",
            "Epoch: 30/30... Step: 1900... Loss: 1.2636... Val Loss: 1.2821\n",
            "Epoch: 30/30... Step: 1910... Loss: 1.2777... Val Loss: 1.2834\n",
            "Epoch: 30/30... Step: 1920... Loss: 1.2728... Val Loss: 1.2892\n",
            "Epoch: 30/30... Step: 1930... Loss: 1.2444... Val Loss: 1.2861\n",
            "Epoch: 30/30... Step: 1940... Loss: 1.2473... Val Loss: 1.2837\n",
            "Epoch: 30/30... Step: 1950... Loss: 1.3217... Val Loss: 1.2802\n"
          ],
          "name": "stdout"
        }
      ]
    },
    {
      "cell_type": "markdown",
      "metadata": {
        "id": "oAHLMov0pNFb",
        "colab_type": "text"
      },
      "source": [
        "## Getting the best model\n",
        "\n",
        "To set your hyperparameters to get the best performance, you'll want to watch the training and validation losses. If your training loss is much lower than the validation loss, you're overfitting. Increase regularization (more dropout) or use a smaller network. If the training and validation losses are close, you're underfitting so you can increase the size of the network."
      ]
    },
    {
      "cell_type": "markdown",
      "metadata": {
        "id": "TkCTuv_8pNFc",
        "colab_type": "text"
      },
      "source": [
        "## Hyperparameters\n",
        "\n",
        "Here are the hyperparameters for the network.\n",
        "\n",
        "In defining the model:\n",
        "* `n_hidden` - The number of units in the hidden layers.\n",
        "* `n_layers` - Number of hidden LSTM layers to use.\n",
        "\n",
        "We assume that dropout probability and learning rate will be kept at the default, in this example.\n",
        "\n",
        "And in training:\n",
        "* `batch_size` - Number of sequences running through the network in one pass.\n",
        "* `seq_length` - Number of characters in the sequence the network is trained on. Larger is better typically, the network will learn more long range dependencies. But it takes longer to train. 100 is typically a good number here.\n",
        "* `lr` - Learning rate for training\n",
        "\n",
        "Here's some good advice from Andrej Karpathy on training the network. I'm going to copy it in here for your benefit, but also link to [where it originally came from](https://github.com/karpathy/char-rnn#tips-and-tricks).\n",
        "\n",
        "> ## Tips and Tricks\n",
        "\n",
        ">### Monitoring Validation Loss vs. Training Loss\n",
        ">If you're somewhat new to Machine Learning or Neural Networks it can take a bit of expertise to get good models. The most important quantity to keep track of is the difference between your training loss (printed during training) and the validation loss (printed once in a while when the RNN is run on the validation data (by default every 1000 iterations)). In particular:\n",
        "\n",
        "> - If your training loss is much lower than validation loss then this means the network might be **overfitting**. Solutions to this are to decrease your network size, or to increase dropout. For example you could try dropout of 0.5 and so on.\n",
        "> - If your training/validation loss are about equal then your model is **underfitting**. Increase the size of your model (either number of layers or the raw number of neurons per layer)\n",
        "\n",
        "> ### Approximate number of parameters\n",
        "\n",
        "> The two most important parameters that control the model are `n_hidden` and `n_layers`. I would advise that you always use `n_layers` of either 2/3. The `n_hidden` can be adjusted based on how much data you have. The two important quantities to keep track of here are:\n",
        "\n",
        "> - The number of parameters in your model. This is printed when you start training.\n",
        "> - The size of your dataset. 1MB file is approximately 1 million characters.\n",
        "\n",
        ">These two should be about the same order of magnitude. It's a little tricky to tell. Here are some examples:\n",
        "\n",
        "> - I have a 100MB dataset and I'm using the default parameter settings (which currently print 150K parameters). My data size is significantly larger (100 mil >> 0.15 mil), so I expect to heavily underfit. I am thinking I can comfortably afford to make `n_hidden` larger.\n",
        "> - I have a 10MB dataset and running a 10 million parameter model. I'm slightly nervous and I'm carefully monitoring my validation loss. If it's larger than my training loss then I may want to try to increase dropout a bit and see if that helps the validation loss.\n",
        "\n",
        "> ### Best models strategy\n",
        "\n",
        ">The winning strategy to obtaining very good models (if you have the compute time) is to always err on making the network larger (as large as you're willing to wait for it to compute) and then try different dropout values (between 0,1). Whatever model has the best validation performance (the loss, written in the checkpoint filename, low is good) is the one you should use in the end.\n",
        "\n",
        ">It is very common in deep learning to run many different models with many different hyperparameter settings, and in the end take whatever checkpoint gave the best validation performance.\n",
        "\n",
        ">By the way, the size of your training and validation splits are also parameters. Make sure you have a decent amount of data in your validation set or otherwise the validation performance will be noisy and not very informative."
      ]
    },
    {
      "cell_type": "markdown",
      "metadata": {
        "id": "Cs_YYfNUpNFd",
        "colab_type": "text"
      },
      "source": [
        "## Checkpoint\n",
        "\n",
        "After training, we'll save the model so we can load it again later if we need too. Here I'm saving the parameters needed to create the same architecture, the hidden layer hyperparameters and the text characters."
      ]
    },
    {
      "cell_type": "code",
      "metadata": {
        "id": "vAOXx5NEpNFf",
        "colab_type": "code",
        "colab": {}
      },
      "source": [
        "# change the name, for saving multiple files\n",
        "model_name = 'rnn_x_epoch.net'\n",
        "\n",
        "checkpoint = {'n_hidden': net.n_hidden,\n",
        "              'n_layers': net.n_layers,\n",
        "              'state_dict': net.state_dict(),\n",
        "              'tokens': net.chars}\n",
        "\n",
        "with open(model_name, 'wb') as f:\n",
        "    torch.save(checkpoint, f)"
      ],
      "execution_count": 0,
      "outputs": []
    },
    {
      "cell_type": "markdown",
      "metadata": {
        "id": "Pl5X5abUpNGS",
        "colab_type": "text"
      },
      "source": [
        "---\n",
        "## Making Predictions\n",
        "\n",
        "Now that the model is trained, we'll want to sample from it and make predictions about next characters! To sample, we pass in a character and have the network predict the next character. Then we take that character, pass it back in, and get another predicted character. Just keep doing this and you'll generate a bunch of text!\n",
        "\n",
        "### A note on the `predict`  function\n",
        "\n",
        "The output of our RNN is from a fully-connected layer and it outputs a **distribution of next-character scores**.\n",
        "\n",
        "> To actually get the next character, we apply a softmax function, which gives us a *probability* distribution that we can then sample to predict the next character.\n",
        "\n",
        "### Top K sampling\n",
        "\n",
        "Our predictions come from a categorical probability distribution over all the possible characters. We can make the sample text and make it more reasonable to handle (with less variables) by only considering some $K$ most probable characters. This will prevent the network from giving us completely absurd characters while allowing it to introduce some noise and randomness into the sampled text. Read more about [topk, here](https://pytorch.org/docs/stable/torch.html#torch.topk).\n"
      ]
    },
    {
      "cell_type": "code",
      "metadata": {
        "id": "hTigLVKipNGU",
        "colab_type": "code",
        "colab": {}
      },
      "source": [
        "def predict(net, char, h=None, top_k=None):\n",
        "        ''' Given a character, predict the next character.\n",
        "            Returns the predicted character and the hidden state.\n",
        "        '''\n",
        "        \n",
        "        # tensor inputs\n",
        "        x = np.array([[net.char2int[char]]])\n",
        "        x = one_hot_encode(x, len(net.chars))\n",
        "        inputs = torch.from_numpy(x)\n",
        "        \n",
        "        if(train_on_gpu):\n",
        "            inputs = inputs.cuda()\n",
        "        \n",
        "        # detach hidden state from history\n",
        "        h = tuple([each.data for each in h])\n",
        "        # get the output of the model\n",
        "        out, h = net(inputs, h)\n",
        "\n",
        "        # get the character probabilities\n",
        "        p = F.softmax(out, dim=1).data\n",
        "        if(train_on_gpu):\n",
        "            p = p.cpu() # move to cpu\n",
        "        \n",
        "        # get top characters\n",
        "        if top_k is None:\n",
        "            top_ch = np.arange(len(net.chars))\n",
        "        else:\n",
        "            p, top_ch = p.topk(top_k)\n",
        "            top_ch = top_ch.numpy().squeeze()\n",
        "        \n",
        "        # select the likely next character with some element of randomness\n",
        "        p = p.numpy().squeeze()\n",
        "        char = np.random.choice(top_ch, p=p/p.sum())\n",
        "        \n",
        "        # return the encoded value of the predicted char and the hidden state\n",
        "        return net.int2char[char], h"
      ],
      "execution_count": 0,
      "outputs": []
    },
    {
      "cell_type": "markdown",
      "metadata": {
        "id": "QulPF9MhpNGj",
        "colab_type": "text"
      },
      "source": [
        "### Priming and generating text \n",
        "\n",
        "Typically you'll want to prime the network so you can build up a hidden state. Otherwise the network will start out generating characters at random. In general the first bunch of characters will be a little rough since it hasn't built up a long history of characters to predict from."
      ]
    },
    {
      "cell_type": "code",
      "metadata": {
        "id": "2M2P2wBNpNGl",
        "colab_type": "code",
        "colab": {}
      },
      "source": [
        "def sample(net, size, prime='The', top_k=None):\n",
        "        \n",
        "    if(train_on_gpu):\n",
        "        net.cuda()\n",
        "    else:\n",
        "        net.cpu()\n",
        "    \n",
        "    net.eval() # eval mode\n",
        "    \n",
        "    # First off, run through the prime characters\n",
        "    chars = [ch for ch in prime]\n",
        "    h = net.init_hidden(1)\n",
        "    for ch in prime:\n",
        "        char, h = predict(net, ch, h, top_k=top_k)\n",
        "\n",
        "    chars.append(char)\n",
        "    \n",
        "    # Now pass in the previous character and get a new one\n",
        "    for ii in range(size):\n",
        "        char, h = predict(net, chars[-1], h, top_k=top_k)\n",
        "        chars.append(char)\n",
        "\n",
        "    return ''.join(chars)"
      ],
      "execution_count": 0,
      "outputs": []
    },
    {
      "cell_type": "code",
      "metadata": {
        "id": "_npcWvmapNGw",
        "colab_type": "code",
        "colab": {
          "base_uri": "https://localhost:8080/",
          "height": 122
        },
        "outputId": "2a19d804-2d25-4ec0-ae6c-d8195b09592e"
      },
      "source": [
        "print(sample(net, 1000, prime='Obinze', top_k=5))"
      ],
      "execution_count": 52,
      "outputs": [
        {
          "output_type": "stream",
          "text": [
            "Obinze to hee began to say that he was stopped the stiff of a blight.\n",
            "\n",
            "“Ifemelu.” She came from a car and had a little too much of them with him. If she was a secret way to have happened, her mother. “Well, is the send and he could not have this careful black were about this. So the cashet is not? Why want this car to show happens. It’s too makeing a little thing that will, and they say ‘he are an ach, a long women they were nights,” she trought a ploting to her and he had a prressid with a mon and say that she came back at the clittle. She had been told her to say, “I’m a presence out in his a shill because I couldn’t think I’s not the tell that strack men. We are not solictuler. She should have arrived to be the most of the black. I have stopped into these.”\n",
            "\n",
            "“We don’t have marry, but I came into the pook. You can go there and have sent the morning, they? He has to be abratitiating, this in these and he has that way, and they say. A fellow was now all. Through her car over, and then with a \n"
          ],
          "name": "stdout"
        }
      ]
    },
    {
      "cell_type": "markdown",
      "metadata": {
        "id": "TxQVR7svpNHE",
        "colab_type": "text"
      },
      "source": [
        "## Loading a checkpoint"
      ]
    },
    {
      "cell_type": "code",
      "metadata": {
        "id": "oqCg5pBXpNHG",
        "colab_type": "code",
        "colab": {
          "base_uri": "https://localhost:8080/",
          "height": 34
        },
        "outputId": "a97bb9df-c275-4c53-e9e4-756a4e5e081a"
      },
      "source": [
        "# Here we have loaded in a model that trained over 20 epochs `rnn_20_epoch.net`\n",
        "with open('rnn_x_epoch.net', 'rb') as f:\n",
        "    checkpoint = torch.load(f)\n",
        "    \n",
        "loaded = CharRNN(checkpoint['tokens'], n_hidden=checkpoint['n_hidden'], n_layers=checkpoint['n_layers'])\n",
        "loaded.load_state_dict(checkpoint['state_dict'])"
      ],
      "execution_count": 49,
      "outputs": [
        {
          "output_type": "execute_result",
          "data": {
            "text/plain": [
              "<All keys matched successfully>"
            ]
          },
          "metadata": {
            "tags": []
          },
          "execution_count": 49
        }
      ]
    },
    {
      "cell_type": "code",
      "metadata": {
        "id": "CVhwdynbpNHU",
        "colab_type": "code",
        "colab": {
          "base_uri": "https://localhost:8080/",
          "height": 598
        },
        "outputId": "7e21a95d-f129-4f4f-ddda-f95b2064c4a0"
      },
      "source": [
        "# Sample using a loaded model\n",
        "print(sample(loaded, 2000, top_k=5, prime=\"And Ifemelu thought\"))"
      ],
      "execution_count": 50,
      "outputs": [
        {
          "output_type": "stream",
          "text": [
            "And Ifemelu thought it asked the precious of this country, his mother was not back and she should have all have beer and she wished if those weaked, as he did not like somehow at the chance was all the comperonion when she women had said.\n",
            "\n",
            "“You see him on a little time,” he said. “I know that it was because you have a car of a please, buy is too coming.” Ifemelu was surprised and he would becume she would breave.\n",
            "\n",
            "“I cound her. His first sing?”\n",
            "\n",
            "“It was not strange the conference and so she was never said this silence of money as it were to blur holiman calls, I’m all their state. There’s nothing, is search too..\n",
            "\n",
            "\n",
            "\n",
            "CHAPTER 35\n",
            "\n",
            "\n",
            "\n",
            "\n",
            "\n",
            "It should have, to clote. Ifemelu should have always would always said “Sand that stop compution?”\n",
            "\n",
            "“I was not to be about this, you woll them,” Ifemelu said, and she would struck as he was an American children that talking, “We’ve seem, this is the poor and your happen when that way their bessor as he changed it?” He was survored. They were all of them, a place. Ifemelu would not have to can to the corner as the sumper talking of her passport, were all father and then wondered what she was to seave a black people, and she said, “I’m not been.” And so when she came.\n",
            "\n",
            "“Ifem, you’re somebody taken to the man that’s this world to be the strange school or anound in a child of hise it. How men I wanted it off your friend.”\n",
            "\n",
            "“What?”\n",
            "\n",
            "“Your bed think we’re nivel.”\n",
            "\n",
            "“Yes,” she said floaded, and willing out a black blog, she was not to say. “I don’t know how he was to have there around where you are a people wiston it is a confunting in America if this we was not a country and so. She wishe how mean you should have been a little too take beer in a long till,” Ifemelu said.\n",
            "\n",
            "Ifemelu would shown the the car.\n",
            "\n",
            "“Tell,” her said shades and she could happened, and was that she was already become, she tulled and was so so merely that it was a smolly who was a plet that said, “You can be too much to take your people who would tell you to come to America.”\n",
            "\n",
            "“Yes,” he said, an\n"
          ],
          "name": "stdout"
        }
      ]
    },
    {
      "cell_type": "code",
      "metadata": {
        "id": "QYsnZJbUpNHh",
        "colab_type": "code",
        "colab": {}
      },
      "source": [
        ""
      ],
      "execution_count": 0,
      "outputs": []
    }
  ]
}